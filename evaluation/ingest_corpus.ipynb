{
 "cells": [
  {
   "cell_type": "code",
   "execution_count": null,
   "id": "9f540216",
   "metadata": {},
   "outputs": [],
   "source": [
    "import json\n",
    "from pathlib import Path\n",
    "from langchain_core.documents.base import Document\n",
    "from langchain_huggingface import HuggingFaceEmbeddings\n",
    "from langchain_chroma import Chroma\n",
    "\n",
    "VECTOR_DIR = \"data/vectorstore\"\n",
    "CORPUS = Path(\"data/corpus.jsonl\")\n",
    "\n",
    "# Clear existing data in the store\n",
    "if Path(VECTOR_DIR).exists():\n",
    "    store_temp = Chroma(persist_directory=VECTOR_DIR, embedding_function=HuggingFaceEmbeddings(model_name=\"sentence-transformers/all-MiniLM-L6-v2\"))\n",
    "    store_temp.delete_collection()\n",
    "    print(f\"Cleared existing data from {VECTOR_DIR}\")\n",
    "\n",
    "emb = HuggingFaceEmbeddings(model_name=\"sentence-transformers/all-MiniLM-L6-v2\")\n",
    "store = Chroma(persist_directory=VECTOR_DIR, embedding_function=emb)\n",
    "\n",
    "docs = []\n",
    "with CORPUS.open(\"r\", encoding=\"utf-8\") as f:\n",
    "    for line in f:\n",
    "        if not line.strip():\n",
    "            continue\n",
    "        item = json.loads(line)\n",
    "        text = item[\"text\"]\n",
    "        metadata = {\n",
    "            \"doc_id\": item.get(\"doc_id\"),\n",
    "            \"url\": item.get(\"url\"),\n",
    "            \"captured_at\": item.get(\"captured_at\"),\n",
    "            \"source_type\": item.get(\"source_type\"),\n",
    "        }\n",
    "        docs.append(Document(page_content=text, metadata=metadata))\n",
    "\n",
    "if docs:\n",
    "    store.add_documents(docs)\n",
    "    print(f\"Ingested {len(docs)} chunks into {VECTOR_DIR}\")\n",
    "else:\n",
    "    print(\"No documents found to ingest.\")\n",
    "print(f\"Total documents in store: {store._collection.count()}\")"
   ]
  }
 ],
 "metadata": {
  "kernelspec": {
   "display_name": "chatbot-api",
   "language": "python",
   "name": "python3"
  },
  "language_info": {
   "codemirror_mode": {
    "name": "ipython",
    "version": 3
   },
   "file_extension": ".py",
   "mimetype": "text/x-python",
   "name": "python",
   "nbconvert_exporter": "python",
   "pygments_lexer": "ipython3",
   "version": "3.11.12"
  }
 },
 "nbformat": 4,
 "nbformat_minor": 5
}
